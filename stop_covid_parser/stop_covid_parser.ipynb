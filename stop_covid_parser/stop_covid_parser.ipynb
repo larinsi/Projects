{
 "cells": [
  {
   "cell_type": "code",
   "execution_count": 1,
   "id": "ce6cb8c1",
   "metadata": {},
   "outputs": [],
   "source": [
    "import json\n",
    "import sys\n",
    "import pandas as pd\n",
    "import datetime\n",
    "\n",
    "from bs4 import BeautifulSoup\n",
    "import requests\n",
    "\n",
    "rs = requests.get('https://стопкоронавирус.рф/information/')\n",
    "root = BeautifulSoup(rs.content, 'html.parser')\n",
    "\n",
    "stats = root.select_one('cv-spread-overview')\n",
    "data = stats[':spread-data']\n",
    "data = json.loads(data)\n",
    "data = pd.DataFrame(data)\n"
   ]
  },
  {
   "cell_type": "code",
   "execution_count": 2,
   "id": "cf3189f9",
   "metadata": {},
   "outputs": [],
   "source": [
    "today = datetime.datetime.today().date().strftime('%d.%m.%Y')"
   ]
  },
  {
   "cell_type": "code",
   "execution_count": 3,
   "id": "c9c2b794",
   "metadata": {},
   "outputs": [],
   "source": [
    "output_df = data[['title', 'sick_incr', 'healed_incr', 'died_incr']]\n",
    "list_of_regions = ['Нижегородская область', 'Краснодарский край', 'Рязанская область', 'Ярославская область',\n",
    "                   'Республика Чувашия', 'Ульяновская область', 'Республика Татарстан', 'Пензенская область',\n",
    "                   'Владимирская область', 'Ивановская область', 'Республика Мордовия', 'Республика Марий Эл',\n",
    "                   'Кировская область', 'Костромская область', 'Удмуртская Республика']"
   ]
  },
  {
   "cell_type": "code",
   "execution_count": 4,
   "id": "c5a11841",
   "metadata": {},
   "outputs": [],
   "source": [
    "result_df = pd.DataFrame(columns=['title', 'sick_incr', 'healed_incr', 'died_incr'])\n",
    "for region in list_of_regions:\n",
    "    result_df = result_df.append(output_df[output_df['title'] == region])"
   ]
  },
  {
   "cell_type": "code",
   "execution_count": 5,
   "id": "3846d495",
   "metadata": {},
   "outputs": [],
   "source": [
    "result_df.rename(columns={'title':'Регион', \n",
    "                          'sick_incr': 'Количество заболевших',\n",
    "                          'healed_incr': 'Количество выздоровевших',\n",
    "                          'died_incr':  'Количество умерших'},\n",
    "                          inplace=True)"
   ]
  },
  {
   "cell_type": "code",
   "execution_count": 6,
   "id": "f5c1cb74",
   "metadata": {},
   "outputs": [],
   "source": [
    "file_name = 'Информация с сайта стопкоронавирус.рф за ' + today + '.xlsx'"
   ]
  },
  {
   "cell_type": "code",
   "execution_count": 7,
   "id": "d37a1bd2",
   "metadata": {},
   "outputs": [],
   "source": [
    "result_df.to_excel(file_name, index=False)"
   ]
  },
  {
   "cell_type": "code",
   "execution_count": null,
   "id": "5aa04b71",
   "metadata": {},
   "outputs": [],
   "source": []
  }
 ],
 "metadata": {
  "kernelspec": {
   "display_name": "Python 3",
   "language": "python",
   "name": "python3"
  },
  "language_info": {
   "codemirror_mode": {
    "name": "ipython",
    "version": 3
   },
   "file_extension": ".py",
   "mimetype": "text/x-python",
   "name": "python",
   "nbconvert_exporter": "python",
   "pygments_lexer": "ipython3",
   "version": "3.8.8"
  }
 },
 "nbformat": 4,
 "nbformat_minor": 5
}
