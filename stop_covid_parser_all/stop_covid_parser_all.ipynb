{
 "cells": [
  {
   "cell_type": "code",
   "execution_count": 1,
   "id": "9dc1acfc",
   "metadata": {},
   "outputs": [],
   "source": [
    "import json\n",
    "import sys\n",
    "import pandas as pd\n",
    "import datetime\n",
    "from bs4 import BeautifulSoup\n",
    "import requests\n",
    "\n",
    "rs = requests.get('https://стопкоронавирус.рф/information/')\n",
    "root = BeautifulSoup(rs.content, 'html.parser')\n",
    "\n",
    "stats = root.select_one('cv-spread-overview')\n",
    "data = stats[':spread-data']\n",
    "data = json.loads(data)\n",
    "data = pd.DataFrame(data)"
   ]
  },
  {
   "cell_type": "code",
   "execution_count": 2,
   "id": "7e35100a",
   "metadata": {},
   "outputs": [],
   "source": [
    "today = datetime.datetime.today().date().strftime('%Y-%m-%d')"
   ]
  },
  {
   "cell_type": "code",
   "execution_count": 3,
   "id": "e27c94c6",
   "metadata": {},
   "outputs": [],
   "source": [
    "data['date'] = today"
   ]
  },
  {
   "cell_type": "code",
   "execution_count": 4,
   "id": "fe5c9be5",
   "metadata": {},
   "outputs": [],
   "source": [
    "file_name = 'stop_covid_data_' + today + '.xlsx' \n",
    "data.to_excel(file_name, index=False)"
   ]
  },
  {
   "cell_type": "code",
   "execution_count": null,
   "id": "ff2dbebf",
   "metadata": {},
   "outputs": [],
   "source": []
  }
 ],
 "metadata": {
  "kernelspec": {
   "display_name": "Python 3 (ipykernel)",
   "language": "python",
   "name": "python3"
  },
  "language_info": {
   "codemirror_mode": {
    "name": "ipython",
    "version": 3
   },
   "file_extension": ".py",
   "mimetype": "text/x-python",
   "name": "python",
   "nbconvert_exporter": "python",
   "pygments_lexer": "ipython3",
   "version": "3.10.1"
  }
 },
 "nbformat": 4,
 "nbformat_minor": 5
}
